{
 "cells": [
  {
   "cell_type": "code",
   "execution_count": 1,
   "id": "f81323b2",
   "metadata": {},
   "outputs": [],
   "source": [
    "import cv2\n",
    "import imutils\n",
    "#from basicmotiondetector import BasicMotionDetector\n",
    "from imutils.video import VideoStream"
   ]
  },
  {
   "cell_type": "code",
   "execution_count": 2,
   "id": "e8a95ff1",
   "metadata": {},
   "outputs": [
    {
     "output_type": "stream",
     "name": "stdout",
     "text": [
      "[INFO] starting cameras...\n"
     ]
    }
   ],
   "source": [
    "# initialize the video streams and allow them to warmup\n",
    "print(\"[INFO] starting cameras...\")\n",
    "#webcam = VideoStream(src=0).start()\n",
    "#picam = VideoStream(usePiCamera=True).start()\n",
    "webcam1 = VideoStream(src=0).start()\n",
    "webcam2 = VideoStream(src=2).start()"
   ]
  },
  {
   "cell_type": "code",
   "execution_count": 3,
   "metadata": {},
   "outputs": [
    {
     "output_type": "stream",
     "name": "stdout",
     "text": [
      "[INFO] cleaning up...\n"
     ]
    }
   ],
   "source": [
    "while True:\n",
    "    frame1 = webcam1.read()\n",
    "    frame2 = webcam2.read()\n",
    "    frame1 = imutils.resize(frame1, width=400)\n",
    "    frame2 = imutils.resize(frame2, width=400)\n",
    "    cv2.imshow('Webcam 1',frame1)\n",
    "    cv2.imshow('Webcam 2',frame2)\n",
    "    # check to see if a key was pressed\n",
    "    # if the `q` key was pressed, break from the loop\n",
    "    if cv2.waitKey(1) & 0xFF == ord(\"q\"):\n",
    "        break\n",
    "# do a bit of cleanup\n",
    "print(\"[INFO] cleaning up...\")\n",
    "cv2.destroyAllWindows()\n",
    "webcam1.stop()\n",
    "webcam2.stop()"
   ]
  },
  {
   "cell_type": "code",
   "execution_count": null,
   "metadata": {},
   "outputs": [],
   "source": []
  }
 ],
 "metadata": {
  "kernelspec": {
   "display_name": "Python 3.8.10 64-bit ('multicam_PC': venv)",
   "language": "python",
   "name": "python381064bitmulticampcvenvb6e87a62748c4b1484b310bac61bfd0e"
  },
  "language_info": {
   "codemirror_mode": {
    "name": "ipython",
    "version": 3
   },
   "file_extension": ".py",
   "mimetype": "text/x-python",
   "name": "python",
   "nbconvert_exporter": "python",
   "pygments_lexer": "ipython3",
   "version": "3.8.10-final"
  }
 },
 "nbformat": 4,
 "nbformat_minor": 5
}